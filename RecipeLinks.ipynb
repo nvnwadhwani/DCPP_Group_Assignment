{
 "cells": [
  {
   "cell_type": "code",
   "execution_count": 1,
   "metadata": {
    "colab": {
     "base_uri": "https://localhost:8080/"
    },
    "id": "2yaf9z4m6Z2d",
    "outputId": "4e6862b8-1f8f-4323-b92f-eb5f4f36c397"
   },
   "outputs": [
    {
     "name": "stdout",
     "output_type": "stream",
     "text": [
      "Requirement already satisfied: selenium in c:\\users\\nvnwa\\anaconda3\\lib\\site-packages (4.1.5)\n",
      "Requirement already satisfied: trio~=0.17 in c:\\users\\nvnwa\\anaconda3\\lib\\site-packages (from selenium) (0.20.0)\n",
      "Requirement already satisfied: urllib3[secure,socks]~=1.26 in c:\\users\\nvnwa\\anaconda3\\lib\\site-packages (from selenium) (1.26.7)\n",
      "Requirement already satisfied: trio-websocket~=0.9 in c:\\users\\nvnwa\\anaconda3\\lib\\site-packages (from selenium) (0.9.2)\n",
      "Requirement already satisfied: idna in c:\\users\\nvnwa\\anaconda3\\lib\\site-packages (from trio~=0.17->selenium) (3.2)\n",
      "Requirement already satisfied: cffi>=1.14 in c:\\users\\nvnwa\\anaconda3\\lib\\site-packages (from trio~=0.17->selenium) (1.14.6)\n",
      "Requirement already satisfied: async-generator>=1.9 in c:\\users\\nvnwa\\anaconda3\\lib\\site-packages (from trio~=0.17->selenium) (1.10)\n",
      "Requirement already satisfied: sniffio in c:\\users\\nvnwa\\anaconda3\\lib\\site-packages (from trio~=0.17->selenium) (1.2.0)\n",
      "Requirement already satisfied: sortedcontainers in c:\\users\\nvnwa\\anaconda3\\lib\\site-packages (from trio~=0.17->selenium) (2.4.0)\n",
      "Requirement already satisfied: outcome in c:\\users\\nvnwa\\anaconda3\\lib\\site-packages (from trio~=0.17->selenium) (1.1.0)\n",
      "Requirement already satisfied: attrs>=19.2.0 in c:\\users\\nvnwa\\anaconda3\\lib\\site-packages (from trio~=0.17->selenium) (21.2.0)\n",
      "Requirement already satisfied: pycparser in c:\\users\\nvnwa\\anaconda3\\lib\\site-packages (from cffi>=1.14->trio~=0.17->selenium) (2.20)\n",
      "Requirement already satisfied: wsproto>=0.14 in c:\\users\\nvnwa\\anaconda3\\lib\\site-packages (from trio-websocket~=0.9->selenium) (1.1.0)\n",
      "Requirement already satisfied: PySocks!=1.5.7,<2.0,>=1.5.6 in c:\\users\\nvnwa\\anaconda3\\lib\\site-packages (from urllib3[secure,socks]~=1.26->selenium) (1.7.1)\n",
      "Requirement already satisfied: pyOpenSSL>=0.14 in c:\\users\\nvnwa\\anaconda3\\lib\\site-packages (from urllib3[secure,socks]~=1.26->selenium) (21.0.0)\n",
      "Requirement already satisfied: cryptography>=1.3.4 in c:\\users\\nvnwa\\anaconda3\\lib\\site-packages (from urllib3[secure,socks]~=1.26->selenium) (3.4.8)\n",
      "Requirement already satisfied: certifi in c:\\users\\nvnwa\\anaconda3\\lib\\site-packages (from urllib3[secure,socks]~=1.26->selenium) (2021.10.8)\n",
      "Requirement already satisfied: six>=1.5.2 in c:\\users\\nvnwa\\anaconda3\\lib\\site-packages (from pyOpenSSL>=0.14->urllib3[secure,socks]~=1.26->selenium) (1.16.0)\n",
      "Requirement already satisfied: h11<1,>=0.9.0 in c:\\users\\nvnwa\\anaconda3\\lib\\site-packages (from wsproto>=0.14->trio-websocket~=0.9->selenium) (0.13.0)\n",
      "Requirement already satisfied: webdriver-manager in c:\\users\\nvnwa\\anaconda3\\lib\\site-packages (3.5.4)\n",
      "Requirement already satisfied: requests in c:\\users\\nvnwa\\anaconda3\\lib\\site-packages (from webdriver-manager) (2.26.0)\n",
      "Requirement already satisfied: charset-normalizer~=2.0.0 in c:\\users\\nvnwa\\anaconda3\\lib\\site-packages (from requests->webdriver-manager) (2.0.4)\n",
      "Requirement already satisfied: urllib3<1.27,>=1.21.1 in c:\\users\\nvnwa\\anaconda3\\lib\\site-packages (from requests->webdriver-manager) (1.26.7)\n",
      "Requirement already satisfied: idna<4,>=2.5 in c:\\users\\nvnwa\\anaconda3\\lib\\site-packages (from requests->webdriver-manager) (3.2)\n",
      "Requirement already satisfied: certifi>=2017.4.17 in c:\\users\\nvnwa\\anaconda3\\lib\\site-packages (from requests->webdriver-manager) (2021.10.8)\n"
     ]
    }
   ],
   "source": [
    "!pip install selenium \n",
    "!pip install webdriver-manager\n",
    "import pandas as pd\n",
    "import requests\n",
    "from bs4 import BeautifulSoup as bs\n",
    "from selenium import webdriver\n",
    "import time\n",
    "from selenium.common.exceptions import StaleElementReferenceException\n",
    "from webdriver_manager.chrome import ChromeDriverManager"
   ]
  },
  {
   "cell_type": "code",
   "execution_count": 2,
   "metadata": {
    "colab": {
     "base_uri": "https://localhost:8080/"
    },
    "id": "9U5Ssm0Hc9Dk",
    "outputId": "2a1949a3-94d5-4304-b531-15b3e643a836"
   },
   "outputs": [
    {
     "name": "stderr",
     "output_type": "stream",
     "text": [
      "'apt-get' is not recognized as an internal or external command,\n",
      "operable program or batch file.\n",
      "'apt' is not recognized as an internal or external command,\n",
      "operable program or batch file.\n"
     ]
    }
   ],
   "source": [
    "!apt-get update \n",
    "!apt install chromium-chromedriver"
   ]
  },
  {
   "cell_type": "code",
   "execution_count": 3,
   "metadata": {
    "id": "4SEruz63dJmt"
   },
   "outputs": [],
   "source": [
    "chrome_options = webdriver.ChromeOptions()\n",
    "chrome_options.add_argument('--headless')\n",
    "chrome_options.add_argument('--no-sandbox')\n",
    "chrome_options.add_argument('--disable-dev-shm-usage')"
   ]
  },
  {
   "cell_type": "code",
   "execution_count": 4,
   "metadata": {
    "colab": {
     "background_save": true,
     "base_uri": "https://localhost:8080/"
    },
    "id": "SuyssP90YMcQ",
    "outputId": "1c8ddad6-48fa-474a-a539-df17b541264b"
   },
   "outputs": [
    {
     "name": "stderr",
     "output_type": "stream",
     "text": [
      "C:\\Users\\nvnwa\\AppData\\Local\\Temp/ipykernel_9120/1166447278.py:1: DeprecationWarning: executable_path has been deprecated, please pass in a Service object\n",
      "  driver = webdriver.Chrome(executable_path = \"C:/Users/nvnwa/Dropbox/PC/Downloads/chromedriver.exe\")\n",
      "C:\\Users\\nvnwa\\AppData\\Local\\Temp/ipykernel_9120/1166447278.py:6: DeprecationWarning: find_elements_by_class_name is deprecated. Please use find_elements(by=By.CLASS_NAME, value=name) instead\n",
      "  receipes = driver.find_elements_by_class_name(\"image-thumbnail\")\n",
      "C:\\Users\\nvnwa\\AppData\\Local\\Temp/ipykernel_9120/1166447278.py:8: DeprecationWarning: find_element_by_tag_name is deprecated. Please use find_element(by=By.TAG_NAME, value=name) instead\n",
      "  link = rec.find_element_by_tag_name(\"a\").get_attribute(\"href\")\n",
      "C:\\Users\\nvnwa\\AppData\\Local\\Temp/ipykernel_9120/1166447278.py:10: DeprecationWarning: find_element_by_* commands are deprecated. Please use find_element() instead\n",
      "  loadmore = driver.find_element_by_id(\"ctl00_ContentPlaceHolder1_btnmore\")\n",
      "C:\\Users\\nvnwa\\AppData\\Local\\Temp/ipykernel_9120/1166447278.py:16: DeprecationWarning: find_elements_by_class_name is deprecated. Please use find_elements(by=By.CLASS_NAME, value=name) instead\n",
      "  lrec = driver.find_elements_by_class_name(\"image-thumbnail\")\n",
      "C:\\Users\\nvnwa\\AppData\\Local\\Temp/ipykernel_9120/1166447278.py:19: DeprecationWarning: find_element_by_tag_name is deprecated. Please use find_element(by=By.TAG_NAME, value=name) instead\n",
      "  link = rec.find_element_by_tag_name(\"a\").get_attribute(\"href\")\n"
     ]
    },
    {
     "ename": "ElementClickInterceptedException",
     "evalue": "Message: element click intercepted: Element <a href=\"#\" id=\"ctl00_ContentPlaceHolder1_btnmore\" style=\"display:block;\" onclick=\"loaddata();return false;\" class=\"loadtoview viewload col-xs-12 mobile-viewmorebnd\">...</a> is not clickable at point (756, 688). Other element would receive the click: <iframe id=\"ob5c04cc-d02e-1046-88a8-aee1696a897b\" src=\"https://vastcdn.outbrain.com/frame?h=https%3A%2F%2Fwww.sanjeevkapoor.com&amp;id=ob5c04cc-d02e-1046-88a8-aee1696a897b&amp;url=https%3A%2F%2Flibs.outbrain.com%2Fvideo%2Fvasts%2FSBILife_Haldi%2Fobv-10eQR9a0lyPe4G%3FobOrigUrl%3Dtrue\" class=\"obp-rec\" allowfullscreen=\"true\" webkitallowfullscreen=\"true\" mozallowfullscreen=\"true\" gesture=\"media\" scrolling=\"no\" width=\"100%\"></iframe>\n  (Session info: chrome=101.0.4951.67)\nStacktrace:\nBacktrace:\n\tOrdinal0 [0x011FB8F3+2406643]\n\tOrdinal0 [0x0118AF31+1945393]\n\tOrdinal0 [0x0107C748+837448]\n\tOrdinal0 [0x010AFA1B+1047067]\n\tOrdinal0 [0x010AD9F8+1038840]\n\tOrdinal0 [0x010AB6DB+1029851]\n\tOrdinal0 [0x010AA439+1025081]\n\tOrdinal0 [0x010A0083+983171]\n\tOrdinal0 [0x010C427C+1131132]\n\tOrdinal0 [0x0109FA64+981604]\n\tOrdinal0 [0x010C4494+1131668]\n\tOrdinal0 [0x010D4682+1197698]\n\tOrdinal0 [0x010C4096+1130646]\n\tOrdinal0 [0x0109E636+976438]\n\tOrdinal0 [0x0109F546+980294]\n\tGetHandleVerifier [0x01469612+2498066]\n\tGetHandleVerifier [0x0145C920+2445600]\n\tGetHandleVerifier [0x01294F2A+579370]\n\tGetHandleVerifier [0x01293D36+574774]\n\tOrdinal0 [0x01191C0B+1973259]\n\tOrdinal0 [0x01196688+1992328]\n\tOrdinal0 [0x01196775+1992565]\n\tOrdinal0 [0x0119F8D1+2029777]\n\tBaseThreadInitThunk [0x76E56739+25]\n\tRtlGetFullPathName_UEx [0x77B58FEF+1215]\n\tRtlGetFullPathName_UEx [0x77B58FBD+1165]\n",
     "output_type": "error",
     "traceback": [
      "\u001b[1;31m---------------------------------------------------------------------------\u001b[0m",
      "\u001b[1;31mElementClickInterceptedException\u001b[0m          Traceback (most recent call last)",
      "\u001b[1;32m~\\AppData\\Local\\Temp/ipykernel_9120/1166447278.py\u001b[0m in \u001b[0;36m<module>\u001b[1;34m\u001b[0m\n\u001b[0;32m     12\u001b[0m \u001b[1;32mtry\u001b[0m\u001b[1;33m:\u001b[0m\u001b[1;33m\u001b[0m\u001b[1;33m\u001b[0m\u001b[0m\n\u001b[0;32m     13\u001b[0m     \u001b[1;32mwhile\u001b[0m \u001b[0mloadmore\u001b[0m\u001b[1;33m.\u001b[0m\u001b[0mis_displayed\u001b[0m\u001b[1;33m(\u001b[0m\u001b[1;33m)\u001b[0m\u001b[1;33m:\u001b[0m\u001b[1;33m\u001b[0m\u001b[1;33m\u001b[0m\u001b[0m\n\u001b[1;32m---> 14\u001b[1;33m         \u001b[0mloadmore\u001b[0m\u001b[1;33m.\u001b[0m\u001b[0mclick\u001b[0m\u001b[1;33m(\u001b[0m\u001b[1;33m)\u001b[0m\u001b[1;33m\u001b[0m\u001b[1;33m\u001b[0m\u001b[0m\n\u001b[0m\u001b[0;32m     15\u001b[0m         \u001b[0mtime\u001b[0m\u001b[1;33m.\u001b[0m\u001b[0msleep\u001b[0m\u001b[1;33m(\u001b[0m\u001b[1;36m7\u001b[0m\u001b[1;33m)\u001b[0m\u001b[1;33m\u001b[0m\u001b[1;33m\u001b[0m\u001b[0m\n\u001b[0;32m     16\u001b[0m         \u001b[0mlrec\u001b[0m \u001b[1;33m=\u001b[0m \u001b[0mdriver\u001b[0m\u001b[1;33m.\u001b[0m\u001b[0mfind_elements_by_class_name\u001b[0m\u001b[1;33m(\u001b[0m\u001b[1;34m\"image-thumbnail\"\u001b[0m\u001b[1;33m)\u001b[0m\u001b[1;33m\u001b[0m\u001b[1;33m\u001b[0m\u001b[0m\n",
      "\u001b[1;32m~\\anaconda3\\lib\\site-packages\\selenium\\webdriver\\remote\\webelement.py\u001b[0m in \u001b[0;36mclick\u001b[1;34m(self)\u001b[0m\n\u001b[0;32m     79\u001b[0m     \u001b[1;32mdef\u001b[0m \u001b[0mclick\u001b[0m\u001b[1;33m(\u001b[0m\u001b[0mself\u001b[0m\u001b[1;33m)\u001b[0m \u001b[1;33m->\u001b[0m \u001b[1;32mNone\u001b[0m\u001b[1;33m:\u001b[0m\u001b[1;33m\u001b[0m\u001b[1;33m\u001b[0m\u001b[0m\n\u001b[0;32m     80\u001b[0m         \u001b[1;34m\"\"\"Clicks the element.\"\"\"\u001b[0m\u001b[1;33m\u001b[0m\u001b[1;33m\u001b[0m\u001b[0m\n\u001b[1;32m---> 81\u001b[1;33m         \u001b[0mself\u001b[0m\u001b[1;33m.\u001b[0m\u001b[0m_execute\u001b[0m\u001b[1;33m(\u001b[0m\u001b[0mCommand\u001b[0m\u001b[1;33m.\u001b[0m\u001b[0mCLICK_ELEMENT\u001b[0m\u001b[1;33m)\u001b[0m\u001b[1;33m\u001b[0m\u001b[1;33m\u001b[0m\u001b[0m\n\u001b[0m\u001b[0;32m     82\u001b[0m \u001b[1;33m\u001b[0m\u001b[0m\n\u001b[0;32m     83\u001b[0m     \u001b[1;32mdef\u001b[0m \u001b[0msubmit\u001b[0m\u001b[1;33m(\u001b[0m\u001b[0mself\u001b[0m\u001b[1;33m)\u001b[0m\u001b[1;33m:\u001b[0m\u001b[1;33m\u001b[0m\u001b[1;33m\u001b[0m\u001b[0m\n",
      "\u001b[1;32m~\\anaconda3\\lib\\site-packages\\selenium\\webdriver\\remote\\webelement.py\u001b[0m in \u001b[0;36m_execute\u001b[1;34m(self, command, params)\u001b[0m\n\u001b[0;32m    738\u001b[0m             \u001b[0mparams\u001b[0m \u001b[1;33m=\u001b[0m \u001b[1;33m{\u001b[0m\u001b[1;33m}\u001b[0m\u001b[1;33m\u001b[0m\u001b[1;33m\u001b[0m\u001b[0m\n\u001b[0;32m    739\u001b[0m         \u001b[0mparams\u001b[0m\u001b[1;33m[\u001b[0m\u001b[1;34m'id'\u001b[0m\u001b[1;33m]\u001b[0m \u001b[1;33m=\u001b[0m \u001b[0mself\u001b[0m\u001b[1;33m.\u001b[0m\u001b[0m_id\u001b[0m\u001b[1;33m\u001b[0m\u001b[1;33m\u001b[0m\u001b[0m\n\u001b[1;32m--> 740\u001b[1;33m         \u001b[1;32mreturn\u001b[0m \u001b[0mself\u001b[0m\u001b[1;33m.\u001b[0m\u001b[0m_parent\u001b[0m\u001b[1;33m.\u001b[0m\u001b[0mexecute\u001b[0m\u001b[1;33m(\u001b[0m\u001b[0mcommand\u001b[0m\u001b[1;33m,\u001b[0m \u001b[0mparams\u001b[0m\u001b[1;33m)\u001b[0m\u001b[1;33m\u001b[0m\u001b[1;33m\u001b[0m\u001b[0m\n\u001b[0m\u001b[0;32m    741\u001b[0m \u001b[1;33m\u001b[0m\u001b[0m\n\u001b[0;32m    742\u001b[0m     \u001b[1;32mdef\u001b[0m \u001b[0mfind_element\u001b[0m\u001b[1;33m(\u001b[0m\u001b[0mself\u001b[0m\u001b[1;33m,\u001b[0m \u001b[0mby\u001b[0m\u001b[1;33m=\u001b[0m\u001b[0mBy\u001b[0m\u001b[1;33m.\u001b[0m\u001b[0mID\u001b[0m\u001b[1;33m,\u001b[0m \u001b[0mvalue\u001b[0m\u001b[1;33m=\u001b[0m\u001b[1;32mNone\u001b[0m\u001b[1;33m)\u001b[0m\u001b[1;33m:\u001b[0m\u001b[1;33m\u001b[0m\u001b[1;33m\u001b[0m\u001b[0m\n",
      "\u001b[1;32m~\\anaconda3\\lib\\site-packages\\selenium\\webdriver\\remote\\webdriver.py\u001b[0m in \u001b[0;36mexecute\u001b[1;34m(self, driver_command, params)\u001b[0m\n\u001b[0;32m    428\u001b[0m         \u001b[0mresponse\u001b[0m \u001b[1;33m=\u001b[0m \u001b[0mself\u001b[0m\u001b[1;33m.\u001b[0m\u001b[0mcommand_executor\u001b[0m\u001b[1;33m.\u001b[0m\u001b[0mexecute\u001b[0m\u001b[1;33m(\u001b[0m\u001b[0mdriver_command\u001b[0m\u001b[1;33m,\u001b[0m \u001b[0mparams\u001b[0m\u001b[1;33m)\u001b[0m\u001b[1;33m\u001b[0m\u001b[1;33m\u001b[0m\u001b[0m\n\u001b[0;32m    429\u001b[0m         \u001b[1;32mif\u001b[0m \u001b[0mresponse\u001b[0m\u001b[1;33m:\u001b[0m\u001b[1;33m\u001b[0m\u001b[1;33m\u001b[0m\u001b[0m\n\u001b[1;32m--> 430\u001b[1;33m             \u001b[0mself\u001b[0m\u001b[1;33m.\u001b[0m\u001b[0merror_handler\u001b[0m\u001b[1;33m.\u001b[0m\u001b[0mcheck_response\u001b[0m\u001b[1;33m(\u001b[0m\u001b[0mresponse\u001b[0m\u001b[1;33m)\u001b[0m\u001b[1;33m\u001b[0m\u001b[1;33m\u001b[0m\u001b[0m\n\u001b[0m\u001b[0;32m    431\u001b[0m             response['value'] = self._unwrap_value(\n\u001b[0;32m    432\u001b[0m                 response.get('value', None))\n",
      "\u001b[1;32m~\\anaconda3\\lib\\site-packages\\selenium\\webdriver\\remote\\errorhandler.py\u001b[0m in \u001b[0;36mcheck_response\u001b[1;34m(self, response)\u001b[0m\n\u001b[0;32m    245\u001b[0m                 \u001b[0malert_text\u001b[0m \u001b[1;33m=\u001b[0m \u001b[0mvalue\u001b[0m\u001b[1;33m[\u001b[0m\u001b[1;34m'alert'\u001b[0m\u001b[1;33m]\u001b[0m\u001b[1;33m.\u001b[0m\u001b[0mget\u001b[0m\u001b[1;33m(\u001b[0m\u001b[1;34m'text'\u001b[0m\u001b[1;33m)\u001b[0m\u001b[1;33m\u001b[0m\u001b[1;33m\u001b[0m\u001b[0m\n\u001b[0;32m    246\u001b[0m             \u001b[1;32mraise\u001b[0m \u001b[0mexception_class\u001b[0m\u001b[1;33m(\u001b[0m\u001b[0mmessage\u001b[0m\u001b[1;33m,\u001b[0m \u001b[0mscreen\u001b[0m\u001b[1;33m,\u001b[0m \u001b[0mstacktrace\u001b[0m\u001b[1;33m,\u001b[0m \u001b[0malert_text\u001b[0m\u001b[1;33m)\u001b[0m  \u001b[1;31m# type: ignore[call-arg]  # mypy is not smart enough here\u001b[0m\u001b[1;33m\u001b[0m\u001b[1;33m\u001b[0m\u001b[0m\n\u001b[1;32m--> 247\u001b[1;33m         \u001b[1;32mraise\u001b[0m \u001b[0mexception_class\u001b[0m\u001b[1;33m(\u001b[0m\u001b[0mmessage\u001b[0m\u001b[1;33m,\u001b[0m \u001b[0mscreen\u001b[0m\u001b[1;33m,\u001b[0m \u001b[0mstacktrace\u001b[0m\u001b[1;33m)\u001b[0m\u001b[1;33m\u001b[0m\u001b[1;33m\u001b[0m\u001b[0m\n\u001b[0m\u001b[0;32m    248\u001b[0m \u001b[1;33m\u001b[0m\u001b[0m\n\u001b[0;32m    249\u001b[0m     \u001b[1;32mdef\u001b[0m \u001b[0m_value_or_default\u001b[0m\u001b[1;33m(\u001b[0m\u001b[0mself\u001b[0m\u001b[1;33m,\u001b[0m \u001b[0mobj\u001b[0m\u001b[1;33m:\u001b[0m \u001b[0mMapping\u001b[0m\u001b[1;33m[\u001b[0m\u001b[0m_KT\u001b[0m\u001b[1;33m,\u001b[0m \u001b[0m_VT\u001b[0m\u001b[1;33m]\u001b[0m\u001b[1;33m,\u001b[0m \u001b[0mkey\u001b[0m\u001b[1;33m:\u001b[0m \u001b[0m_KT\u001b[0m\u001b[1;33m,\u001b[0m \u001b[0mdefault\u001b[0m\u001b[1;33m:\u001b[0m \u001b[0m_VT\u001b[0m\u001b[1;33m)\u001b[0m \u001b[1;33m->\u001b[0m \u001b[0m_VT\u001b[0m\u001b[1;33m:\u001b[0m\u001b[1;33m\u001b[0m\u001b[1;33m\u001b[0m\u001b[0m\n",
      "\u001b[1;31mElementClickInterceptedException\u001b[0m: Message: element click intercepted: Element <a href=\"#\" id=\"ctl00_ContentPlaceHolder1_btnmore\" style=\"display:block;\" onclick=\"loaddata();return false;\" class=\"loadtoview viewload col-xs-12 mobile-viewmorebnd\">...</a> is not clickable at point (756, 688). Other element would receive the click: <iframe id=\"ob5c04cc-d02e-1046-88a8-aee1696a897b\" src=\"https://vastcdn.outbrain.com/frame?h=https%3A%2F%2Fwww.sanjeevkapoor.com&amp;id=ob5c04cc-d02e-1046-88a8-aee1696a897b&amp;url=https%3A%2F%2Flibs.outbrain.com%2Fvideo%2Fvasts%2FSBILife_Haldi%2Fobv-10eQR9a0lyPe4G%3FobOrigUrl%3Dtrue\" class=\"obp-rec\" allowfullscreen=\"true\" webkitallowfullscreen=\"true\" mozallowfullscreen=\"true\" gesture=\"media\" scrolling=\"no\" width=\"100%\"></iframe>\n  (Session info: chrome=101.0.4951.67)\nStacktrace:\nBacktrace:\n\tOrdinal0 [0x011FB8F3+2406643]\n\tOrdinal0 [0x0118AF31+1945393]\n\tOrdinal0 [0x0107C748+837448]\n\tOrdinal0 [0x010AFA1B+1047067]\n\tOrdinal0 [0x010AD9F8+1038840]\n\tOrdinal0 [0x010AB6DB+1029851]\n\tOrdinal0 [0x010AA439+1025081]\n\tOrdinal0 [0x010A0083+983171]\n\tOrdinal0 [0x010C427C+1131132]\n\tOrdinal0 [0x0109FA64+981604]\n\tOrdinal0 [0x010C4494+1131668]\n\tOrdinal0 [0x010D4682+1197698]\n\tOrdinal0 [0x010C4096+1130646]\n\tOrdinal0 [0x0109E636+976438]\n\tOrdinal0 [0x0109F546+980294]\n\tGetHandleVerifier [0x01469612+2498066]\n\tGetHandleVerifier [0x0145C920+2445600]\n\tGetHandleVerifier [0x01294F2A+579370]\n\tGetHandleVerifier [0x01293D36+574774]\n\tOrdinal0 [0x01191C0B+1973259]\n\tOrdinal0 [0x01196688+1992328]\n\tOrdinal0 [0x01196775+1992565]\n\tOrdinal0 [0x0119F8D1+2029777]\n\tBaseThreadInitThunk [0x76E56739+25]\n\tRtlGetFullPathName_UEx [0x77B58FEF+1215]\n\tRtlGetFullPathName_UEx [0x77B58FBD+1165]\n"
     ]
    }
   ],
   "source": [
    "driver = webdriver.Chrome(executable_path = \"C:/Users/nvnwa/Dropbox/PC/Downloads/chromedriver.exe\")\n",
    "driver.maximize_window()\n",
    "driver.implicitly_wait(7)\n",
    "driver.get(\"https://www.sanjeevkapoor.com/AllRecipes\")\n",
    "list_links = []\n",
    "receipes = driver.find_elements_by_class_name(\"image-thumbnail\")\n",
    "for rec in receipes:\n",
    "    link = rec.find_element_by_tag_name(\"a\").get_attribute(\"href\")\n",
    "    #print(link)\n",
    "loadmore = driver.find_element_by_id(\"ctl00_ContentPlaceHolder1_btnmore\")\n",
    "j = 0\n",
    "try:\n",
    "    while loadmore.is_displayed():\n",
    "        loadmore.click()\n",
    "        time.sleep(7)\n",
    "        lrec = driver.find_elements_by_class_name(\"image-thumbnail\")\n",
    "        newlist = lrec[j:]\n",
    "        for rec in newlist:\n",
    "            link = rec.find_element_by_tag_name(\"a\").get_attribute(\"href\")\n",
    "            #print(link)\n",
    "            list_links.append(link)\n",
    "        j = len(lrec)+1\n",
    "        time.sleep(7)\n",
    "except StaleElementReferenceException:\n",
    "    pass\n",
    "driver.quit()\n",
    "print(list_links)\n"
   ]
  },
  {
   "cell_type": "code",
   "execution_count": 5,
   "metadata": {
    "id": "cLU-NWJVEOVh"
   },
   "outputs": [
    {
     "name": "stdout",
     "output_type": "stream",
     "text": [
      "3719\n"
     ]
    }
   ],
   "source": [
    "print(len(list_links))"
   ]
  }
 ],
 "metadata": {
  "colab": {
   "collapsed_sections": [],
   "name": "SanjeevKapoor.ipynb",
   "provenance": []
  },
  "kernelspec": {
   "display_name": "Python 3 (ipykernel)",
   "language": "python",
   "name": "python3"
  },
  "language_info": {
   "codemirror_mode": {
    "name": "ipython",
    "version": 3
   },
   "file_extension": ".py",
   "mimetype": "text/x-python",
   "name": "python",
   "nbconvert_exporter": "python",
   "pygments_lexer": "ipython3",
   "version": "3.9.7"
  }
 },
 "nbformat": 4,
 "nbformat_minor": 1
}
